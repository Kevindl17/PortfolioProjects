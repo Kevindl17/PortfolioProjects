{
 "cells": [
  {
   "cell_type": "code",
   "execution_count": null,
   "id": "6ba31447",
   "metadata": {
    "scrolled": true
   },
   "outputs": [],
   "source": [
    "import requests_html\n",
    "from tabulate import tabulate\n",
    "from prettytable import PrettyTable\n",
    "\n",
    "session = requests_html.HTMLSession()\n",
    "\n",
    "# Input which symbols you want to look up\n",
    "symbol = input ('Please input the symbol you want to look up. You can look up seperate symbols by seperating them with a comma.  ')\n",
    "symbol = symbol.upper()\n",
    "symbol_list = symbol.split(\", \")\n",
    "print(symbol_list)\n",
    "print(\"\\n\")\n",
    "\n",
    "#Create headers for table\n",
    "t = PrettyTable(['Symbol', 'Stockname', 'Stockprice', 'Marketcap', 'PE Ratio'])\n",
    "\n",
    "#Loop through every symbol and scrape it from marketwatch.com\n",
    "for i in symbol_list:\n",
    "    try:\n",
    "    \n",
    "        url = session.get('https://www.marketwatch.com/investing/stock/' + i)\n",
    "        \n",
    "\n",
    "        #scraping the Marketwatch.com website\n",
    "        stockname = url.html.xpath('//*[@id=\"maincontent\"]/div[2]/div[2]/div/div[2]/h1', first=True)\n",
    "        stockprice = url.html.xpath('//*[@id=\"maincontent\"]/div[2]/div[3]/div/div[2]/h2/bg-quote', first=True)\n",
    "        marketcap = url.html.xpath('//*[@id=\"maincontent\"]/div[6]/div[1]/div[1]/div/ul/li[4]/span[1]', first=True)\n",
    "        peratio= url.html.xpath('//*[@id=\"maincontent\"]/div[6]/div[1]/div[1]/div/ul/li[9]/span[1]', first=True)\n",
    "\n",
    "        #Only scraping the first value that I want, also doing try/except so that the program won't crash if a value is not found\n",
    "        stockname = stockname.text.split(\"\\n\")[0]\n",
    "        try:\n",
    "            stockprice = stockprice.text.split(\"\\n\")[0]\n",
    "        except:\n",
    "            stockprice = 'Invalid'\n",
    "        try:\n",
    "            marketcap = marketcap.text.split(\"\\n\")[0]\n",
    "        except:\n",
    "            marketcap = \"Invalid\"\n",
    "        try:\n",
    "            peratio = peratio.text.split(\"\\n\")[0]\n",
    "        except:\n",
    "            peratio = \"Invalid\"\n",
    "\n",
    "        #Creating the variable 'value' to store the data from each symbol    \n",
    "        value = i, stockname, stockprice, marketcap, peratio\n",
    "        t.add_row(value)\n",
    "\n",
    "\n",
    "    #Showing an error if an invalid stock symbol is put in\n",
    "    except:\n",
    "        print ('Please seperate symbols with a comma and space or enter a valid stock symbol for:', i)\n",
    "        print('\\n')\n",
    "\n",
    "print(t)\n"
   ]
  },
  {
   "cell_type": "code",
   "execution_count": null,
   "id": "32f6d94a",
   "metadata": {},
   "outputs": [],
   "source": []
  }
 ],
 "metadata": {
  "kernelspec": {
   "display_name": "Python 3 (ipykernel)",
   "language": "python",
   "name": "python3"
  },
  "language_info": {
   "codemirror_mode": {
    "name": "ipython",
    "version": 3
   },
   "file_extension": ".py",
   "mimetype": "text/x-python",
   "name": "python",
   "nbconvert_exporter": "python",
   "pygments_lexer": "ipython3",
   "version": "3.9.13"
  }
 },
 "nbformat": 4,
 "nbformat_minor": 5
}
