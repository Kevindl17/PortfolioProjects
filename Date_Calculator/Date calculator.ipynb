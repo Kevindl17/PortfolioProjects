{
 "cells": [
  {
   "cell_type": "code",
   "execution_count": 195,
   "id": "b5972a18",
   "metadata": {
    "scrolled": true
   },
   "outputs": [
    {
     "name": "stdout",
     "output_type": "stream",
     "text": [
      "Choose 1 or 2: (option 1 = how far your birthday is from christmas // option 2 = how many days there are between two dates 2\n",
      "What is the begin date (YYYY/MM/DD)2022/08/31\n",
      "What is the end date (YYYY/MM/DD)1999/08/31\n",
      "There are 8401 days between 1999-08-31 & 2022-08-31\n"
     ]
    }
   ],
   "source": [
    "import datetime\n",
    "#The program starts by asking the user what he or she wants the calculator to do.\n",
    "start= input(\"Choose 1 or 2: (option 1 = how far your birthday is from christmas // option 2 = how many days there are between two dates \")\n",
    "#If option 1 is chosen, the program shows how many days away your birthday is from christmas & shows the current UTC time\n",
    "\n",
    "if start in [\"option 1\", \"'option 1'\", \"1\"]:\n",
    "\n",
    "    #Asks the user to input their date of birth and strips the time    \n",
    "    try:\n",
    "        birthday = input(\"what is your date of birth? (YYYY/MM/DD)\")\n",
    "        bd = datetime.datetime.strptime(birthday, \"%Y/%m/%d\")\n",
    "    #If the entered date is not valid, an error message displays\n",
    "    except: \n",
    "        print(\"please enter your birthdate in the YYYY/MM/DD format\")\n",
    "        \n",
    "    #Variable 'd' gets the current day/time/year value, variable 'tz' is used to display the timezone value later, variable 'utc' is used to show the time that it is in UTC right now\n",
    "    #Variable 'christmas' is used to assign the closest christmas date to this variable\n",
    "    d = datetime.datetime.now()\n",
    "    tz = datetime.timezone(datetime.timedelta())\n",
    "    utc= datetime.datetime.now(tz)\n",
    "    christmas = datetime.datetime(d.year, 12, 25)\n",
    "\n",
    "    #Gives the current year to the birthday\n",
    "    bdy = datetime.datetime(d.year, bd.month, bd.day)\n",
    "\n",
    "    #Makes sure that christmas is always bigger than the birthday date\n",
    "    if christmas < bdy:\n",
    "        christmas = datetime.datetime(d.year, 12, 25)\n",
    "        bdy = datetime.datetime (d.year-1, bd.month, bd.day)\n",
    "\n",
    "    print(\"You were born in\", bd.year, \"and your birthday is\", (christmas-bdy).days, \"days away from christmas.\" )\n",
    "    print(\"The current time for the UTC timezone is:\", tz, utc.hour, \":\", utc.minute)\n",
    "    \n",
    "#If option 2 is chosen, the program shows how many days there are between two dates\n",
    "elif start in [\"option 2\", \"'option 2'\", \"2\"]:\n",
    "    \n",
    "    #Asks the user to input the two dates that are being used for calculation\n",
    "    try:\n",
    "        begin_date = input(\"What is the begin date (YYYY/MM/DD)\")\n",
    "        end_date = input(\"What is the end date (YYYY/MM/DD)\")\n",
    "        # Strips the two dates and makes sure that it will only be displayed in date value without time\n",
    "        begin_date_stripped = datetime.datetime.strptime(begin_date, \"%Y/%m/%d\").date()\n",
    "        end_date_stripped = datetime.datetime.strptime(end_date, \"%Y/%m/%d\").date()\n",
    "        date_calculation = (end_date_stripped - begin_date_stripped).days\n",
    "        first_date = begin_date_stripped\n",
    "        second_date = end_date_stripped\n",
    "        \n",
    "        if end_date_stripped <= begin_date_stripped:\n",
    "            date_calculation = (begin_date_stripped - end_date_stripped ).days\n",
    "            first_date = end_date_stripped\n",
    "            second_date = begin_date_stripped\n",
    "            \n",
    "        \n",
    "    except: \n",
    "        print(\"please enter the date in the YYYY/MM/DD format\")\n",
    "         \n",
    "    print(\"There are\", date_calculation, \"days between\", first_date, \"&\", second_date)\n",
    "\n",
    "#If a wrong option is entered, this will be displayed\n",
    "else: \n",
    "    print(\"ERROR: Please enter '1' or '2'\")"
   ]
  },
  {
   "cell_type": "code",
   "execution_count": null,
   "id": "52f07089",
   "metadata": {},
   "outputs": [],
   "source": []
  }
 ],
 "metadata": {
  "kernelspec": {
   "display_name": "Python 3",
   "language": "python",
   "name": "python3"
  },
  "language_info": {
   "codemirror_mode": {
    "name": "ipython",
    "version": 3
   },
   "file_extension": ".py",
   "mimetype": "text/x-python",
   "name": "python",
   "nbconvert_exporter": "python",
   "pygments_lexer": "ipython3",
   "version": "3.9.12"
  }
 },
 "nbformat": 4,
 "nbformat_minor": 5
}
