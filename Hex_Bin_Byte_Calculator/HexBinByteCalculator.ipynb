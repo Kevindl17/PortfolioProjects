{
 "cells": [
  {
   "cell_type": "code",
   "execution_count": 12,
   "id": "eb942a45",
   "metadata": {},
   "outputs": [
    {
     "name": "stdout",
     "output_type": "stream",
     "text": [
      "What conversion do you want to do? Option 1: string to hex or binary, Option 2: Integer to bytes 2\n",
      "What integer do you want to convert?hallo\n",
      "Do you want a big-endian or little-endian collection of bytes? big\n",
      "Please enter an integer value!\n"
     ]
    }
   ],
   "source": [
    "# Create a converter that can convert a string to hex or binary value, and an integer to the bytes value\n",
    "\n",
    "start = input(\"What conversion do you want to do? Option 1: string to hex or binary, Option 2: Integer to bytes \")\n",
    "\n",
    "#1 = String to hex or binary\n",
    "# -*- coding: utf-8 -*-\n",
    "\n",
    "if start in [\"1\", \"Option 1\", \"option 1\"]:\n",
    "    text = input (\"What string do you want to convert? \")\n",
    "    start1 = input(\"Do you want to get the hex value, the binary value, or both? \")\n",
    "    start1 = start1.upper()\n",
    "#Making sure that the user inputs a correct value for start 1, otherwise displaying an error\n",
    "    if start1 in [\"HEX\",\"BIN\", \"BINARY\", \"BOTH\"]:\n",
    "        #Calculate hex value\n",
    "        if start1 in [\"hex\", \"Hex\",\"HEX\"]:\n",
    "            for c in text:\n",
    "                a = ord(c)\n",
    "                print(c, hex(a))\n",
    "                \n",
    "        #Calculate bin value\n",
    "        elif start1 in [\"bin\", \"Bin\", \"Binary\", \"binary\", \"BIN\", \"BINARY\"]:\n",
    "            for c in text:\n",
    "                a = ord(c)\n",
    "                print(c, bin(a))\n",
    "        \n",
    "        #Calculate both values\n",
    "        elif start1 in [\"both\", \"Both\", \"BOTH\"]:\n",
    "            for c in text:\n",
    "                a = ord(c)\n",
    "                print(c, \"hex:\",hex(a), \"binary:\", bin(a))\n",
    "    #Error message for wrong input\n",
    "    else:\n",
    "        print(\"Please enter the word hex, binary, or both!\")\n",
    "\n",
    "            \n",
    "#2 = Integer to Bytes \n",
    "elif start in [\"2\", \"Option 2\", \"option 2\"]:\n",
    "    \n",
    "    #Tests if the user has inputted an integer\n",
    "    try:\n",
    "        text2 = input(\"What integer do you want to convert?\")\n",
    "        input2 = input(\"Do you want a big-endian or little-endian collection of bytes? \")\n",
    "        input2 = input2.upper()\n",
    "        #If an integer is inputted, this will give the big-endian value\n",
    "        if input2 in [\"BIG\", \"BIG-ENDIAN\", \"BIG ENDIAN\"]:             \n",
    "            ntext = int(text2)\n",
    "            big = ntext.to_bytes(4, byteorder='big')\n",
    "            print(ntext, \"is\", big, \"as big-endian\")\n",
    "\n",
    "        #If an integer is inputted, this will give the little-endian value    \n",
    "        elif input2 in [\"LITTLE\", \"LITTLE-ENDIAN\", \"LITTLE ENDIAN\"]:\n",
    "            ntext = int(text2)\n",
    "            small = ntext.to_bytes(4, byteorder='little')\n",
    "            print(ntext, \"is\", small, \"as big-endian\")\n",
    "    #An error is displayed if the user doesn't enter an integer value\n",
    "    except:\n",
    "        print(\"Please enter an integer value!\")\n",
    "\n"
   ]
  },
  {
   "cell_type": "code",
   "execution_count": null,
   "id": "587e87b8",
   "metadata": {},
   "outputs": [],
   "source": []
  },
  {
   "cell_type": "code",
   "execution_count": null,
   "id": "62b84fd9",
   "metadata": {},
   "outputs": [],
   "source": []
  }
 ],
 "metadata": {
  "kernelspec": {
   "display_name": "Python 3 (ipykernel)",
   "language": "python",
   "name": "python3"
  },
  "language_info": {
   "codemirror_mode": {
    "name": "ipython",
    "version": 3
   },
   "file_extension": ".py",
   "mimetype": "text/x-python",
   "name": "python",
   "nbconvert_exporter": "python",
   "pygments_lexer": "ipython3",
   "version": "3.9.13"
  }
 },
 "nbformat": 4,
 "nbformat_minor": 5
}
