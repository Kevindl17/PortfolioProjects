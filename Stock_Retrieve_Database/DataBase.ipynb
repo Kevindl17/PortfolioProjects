{
 "cells": [
  {
   "cell_type": "code",
   "execution_count": 3,
   "id": "1535be08",
   "metadata": {},
   "outputs": [
    {
     "name": "stdout",
     "output_type": "stream",
     "text": [
      "Input the stock symbol you want information about! { AAPL, AMZN, COST, GOOG, GOOGL, META, MSFT, NVDA, PEP, TSLA, or ALL} --> GOOGL\n",
      "\n",
      "('GOOGL', 101.77, 0.62, 1327487880000, 'Technology', 9546753)\n"
     ]
    }
   ],
   "source": [
    "import sqlite3\n",
    "\n",
    "db= sqlite3.connect ('stockprice.sqlite3')\n",
    "\n",
    "c= db.cursor()\n",
    "\n",
    "c.execute('DROP TABLE IF EXISTS stockprice;')\n",
    "\n",
    "c.execute('CREATE TABLE stockprice (symbol TEXT PRIMARY KEY, price INTEGER, percentage_change FLOAT, marketcap INTEGER, sector TEXT, volume INTEGER);')\n",
    "\n",
    "\n",
    "sqlinsert = 'INSERT INTO stockprice (symbol, price, percentage_change, marketcap, sector, volume) VALUES (?,?,?,?,?,?);' \n",
    "\n",
    "values = [\n",
    "('SYMBOL', 'PRICE', 'PERCENTAGE_CHANGE', 'MARKETCAP', 'SECTOR', 'VOLUME'),\n",
    "('AAPL',157.69 ,0.50,2733944215674.00,'Technology',40908280),\n",
    "('AMZN',122.32 ,0.11,1244858336089.00,'Consumer_Discretionary',20574910),\n",
    "('COST',502.91 ,0.68,222770895348.00,'Consumer_Discretionary',665650),\n",
    "('GOOG',102.40 ,0.56,1335705600000.00,'Technology',9615496),\n",
    "('GOOGL',101.77 ,0.62,1327487880000.00,'Technology',9546753),\n",
    "('META',146.39 ,0.21,393430220816.00,'Technology',18705897),\n",
    "('MSFT',245.77 ,1.37,1832931305906.00,'Technology',9446906),\n",
    "('NVDA',136.14 ,3.32,338988600000.00,'Technology',36008474),\n",
    "('PEP',171.88 ,1.75,237208982987.00,'Consumer_Staples',1983288),\n",
    "('TSLA',309.22 ,0.16,968921266864.00,'Consumer_Discretionary',27650025)\n",
    "]\n",
    "\n",
    "c.executemany(sqlinsert, values)\n",
    "\n",
    "db.commit()\n",
    "\n",
    "#Create an input so the user can choose which stock to show\n",
    "symbol = input('Input the stock symbol you want information about! { AAPL, AMZN, COST, GOOG, GOOGL, META, MSFT, NVDA, PEP, TSLA, or ALL} --> ')\n",
    "symbol = symbol.upper()\n",
    "\n",
    "\n",
    "#Return the row that is correlated with the input of the user if a valid symbol is added\n",
    "c.execute('SELECT * FROM stockprice WHERE symbol = ?;', [symbol])\n",
    "row = c.fetchone()\n",
    "if row:\n",
    "    print()\n",
    "    print(\"Symbol\", \"Price\", \"Percent_Change\", \"MarketCap\", \"Industry\", \"Volume\")\n",
    "    print(row)\n",
    "# Return all of the rows in the Database\n",
    "elif symbol == \"ALL\":\n",
    "    c.execute('SELECT * FROM stockprice;')\n",
    "    rows = c.fetchall()\n",
    "    print()\n",
    "    for i in rows:\n",
    "        print(i)\n",
    "else:\n",
    "    print()\n",
    "    print('no data was returned')\n",
    "\n",
    "    \n",
    "db.close ()\n"
   ]
  },
  {
   "cell_type": "code",
   "execution_count": null,
   "id": "0f4761e2",
   "metadata": {},
   "outputs": [],
   "source": []
  }
 ],
 "metadata": {
  "kernelspec": {
   "display_name": "Python 3 (ipykernel)",
   "language": "python",
   "name": "python3"
  },
  "language_info": {
   "codemirror_mode": {
    "name": "ipython",
    "version": 3
   },
   "file_extension": ".py",
   "mimetype": "text/x-python",
   "name": "python",
   "nbconvert_exporter": "python",
   "pygments_lexer": "ipython3",
   "version": "3.9.13"
  }
 },
 "nbformat": 4,
 "nbformat_minor": 5
}
