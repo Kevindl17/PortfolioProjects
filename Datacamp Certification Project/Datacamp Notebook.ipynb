{
 "cells": [
  {
   "cell_type": "markdown",
   "id": "a5b3bc0e-b993-4ee3-bd07-825a474bd0d9",
   "metadata": {
    "tags": []
   },
   "source": [
    "# Data Analyst Associate Practical Exam Submission"
   ]
  },
  {
   "cell_type": "markdown",
   "id": "d1b1a012-1ccb-40e7-a1ad-77b60b256690",
   "metadata": {
    "jp-MarkdownHeadingCollapsed": true,
    "tags": []
   },
   "source": [
    "## Task 1: Data Validation\n",
    "\n"
   ]
  },
  {
   "cell_type": "markdown",
   "id": "74d15b67",
   "metadata": {},
   "source": [
    "<font color=Blue>\n",
    "Task:  <br>\n",
    "For every column in the data:<br>\n",
    "- a. State whether the values match the description given in the table above.<br>\n",
    "- b. State the number of missing values in the column.<br>\n",
    "- c. Describe what you did to make values match the description if they did not match.<br>\n",
    "</font>"
   ]
  },
  {
   "cell_type": "markdown",
   "id": "e294e973-b7fc-4c13-b069-cbba98d25361",
   "metadata": {},
   "source": [
    "**Product_id:** All of the values match the description that is given in the table and there are no missing values in this column.\n"
   ]
  },
  {
   "cell_type": "markdown",
   "id": "3f0b5d83-e383-449b-b6ea-1e486320e363",
   "metadata": {},
   "source": [
    "**Category:** All 6 values that are named in the table are present in this column. There is however an additional value named \"-\", which does not match the description given in the table. This value \"-\" is present 25 times in the category column. To replace these 25 values that had \"-\", I changed these values to \"Unknown\" so that they match the description in the table."
   ]
  },
  {
   "cell_type": "markdown",
   "id": "41cca1bd-490e-4a5f-8fda-c9820df653f5",
   "metadata": {},
   "source": [
    "**Animal:** All 4 values that are named in the table are present in this column. All values match the description that is given in the table and there are no missing values in this column."
   ]
  },
  {
   "cell_type": "markdown",
   "id": "8c97b22d-b312-4a3a-98eb-4d339ddc6d7f",
   "metadata": {},
   "source": [
    "**Size:** All 3 values that are named in the table are present in this column. However, there is some inconsistency on how the sizes are spelled. Some have a first letter capital, some are all caps, some all small, etc. I decided to change all the values that didn't exactly match the table to be correct. I changed 372 entries from \"small\" to \"Small\", and 157 entries from \"SMALL\" to \"Small\". I changed 233 entries from \"medium\" to \"Medium\", and 109 entries from \"MEDIUM\" to \"Medium\". I changed 122 entries from \"large\" to \"Large\", and 57 entries from \"LARGE\" to \"Large\". To check if there were no missing values still, I found and wrote down the number of \"Small\" (754), \"Medium\" (492), and \"Large\"(254), which total up to be 1500, which means there are no missing values in this column. "
   ]
  },
  {
   "cell_type": "markdown",
   "id": "8a12ada7-df15-4460-8dbc-a42951e2681b",
   "metadata": {},
   "source": [
    "**Price:** The values don't specifically match the table. Some entries only have 1 or no decimal values, so I changed the format to have two decimals for all entries. There also is a value called \"unlisted\", which I changed to the overall median price, which is 28.07. Which I replaced a 150 times, which now results in no missing or incorrect values in this column. "
   ]
  },
  {
   "cell_type": "markdown",
   "id": "9934a37e-901f-41f3-8ffd-15dd854b6db9",
   "metadata": {},
   "source": [
    "**Sales:** Other than some data not having two decimal points, the data matches the table. I changed the format to have two decimals for all entries. There were also no missing values in this column. "
   ]
  },
  {
   "cell_type": "markdown",
   "id": "38216bd8-bbed-4785-96aa-17cc23072be9",
   "metadata": {},
   "source": [
    "**Rating:** The value \"NA\" doesn't match the table. I changed this to 0 to make sure this column matches the table. This resulted in replacing 150 values, but there were no missing values in this column. "
   ]
  },
  {
   "cell_type": "markdown",
   "id": "167e5128-28af-4654-b332-7d7ddb6b7806",
   "metadata": {},
   "source": [
    "**Repeat_purchase:** The values match the description given in the table and there are no missing values or mismatched values in this column"
   ]
  },
  {
   "cell_type": "markdown",
   "id": "643d4c36-4183-4fbe-a263-6b9de60d29da",
   "metadata": {},
   "source": [
    "## Task 2: Visualization that shows how many products are repeat purchases"
   ]
  },
  {
   "cell_type": "markdown",
   "id": "c078b54c",
   "metadata": {},
   "source": [
    "<font color=Blue>\n",
    "Task: <br>\n",
    "Create a visualization that shows how many products are repeat purchases. Use the\n",
    "visualization to: <br>\n",
    "- a. State which category of the variable repeat purchases has the most observations <br>\n",
    "- b. Explain whether the observations are balanced across categories of the variable repeat purchases <br>\n",
    "</font>"
   ]
  },
  {
   "cell_type": "markdown",
   "id": "dcb3e73a-d70c-40e2-ab65-02d9a3cdfb40",
   "metadata": {},
   "source": [
    "As seen in this visualization below, the category \"Equipment\" has the most repeat puchases out of all the categories, with 370 repeat purchases. The repeat purchases are relatively balanced accross the categories \"Food\", \"Housing\", \"Medicine\", and \"Toys\", with there only being a difference of 33 repeat purchases between the highest and lowest value of these 4 categories. The \"Equipment\" category is not balanced compared to these 4 categories since it has 110 more repeat purchases than the second highest category, which is \"Food\". \"Accessory\" and the \"Unknown\" category are also more than 100 repeat purchases below the lowest of the 4 categories, which shows that the scores for these categories are not balanced either. "
   ]
  },
  {
   "cell_type": "markdown",
   "id": "020262fd-a85d-4c4b-83e8-4e32015d56fe",
   "metadata": {},
   "source": [
    "![image-6](image-6.png)\n"
   ]
  },
  {
   "cell_type": "markdown",
   "id": "ce5f6df2-fbf2-4c44-9209-9ee668876b53",
   "metadata": {},
   "source": [
    "## Task 3 Distribution of Sales\n"
   ]
  },
  {
   "cell_type": "markdown",
   "id": "0814eed5-2672-48c1-8f8c-db4e071679ca",
   "metadata": {},
   "source": [
    "<font color=Blue>\n",
    "Task:  <br>\n",
    "Describe the distribution of all of the sales. Your answer must include a visualization that shows the distribution. <br>\n",
    "</font>"
   ]
  },
  {
   "cell_type": "markdown",
   "id": "8fcff247-db49-42c0-8710-51848aeb6347",
   "metadata": {},
   "source": [
    "To get a better feel of the sale amount for the orders, we should look at how the sales are distributed. As we can see from the visualization below, most sales fall below the amount of 1100 dollars, with 1043 sales being below and 433 being above this sale amount. ALso, we can see that the mode falls between the values of 1001 - 1100 dollars, with several outliers being present that have values above 2200 dollars. We can also see that there are no sales with a value lower than 200 dollars, so there are no real outliers on the lower part. "
   ]
  },
  {
   "cell_type": "markdown",
   "id": "c7ec1d09-6baa-442c-b2e6-ce268550b935",
   "metadata": {},
   "source": [
    "![image-9](image-9.png)\n"
   ]
  },
  {
   "cell_type": "markdown",
   "id": "c5fbe3a0-d277-437c-a1a0-f1edf80684f7",
   "metadata": {},
   "source": [
    "## Task 4 Relationship between sales and repeat purchase"
   ]
  },
  {
   "cell_type": "markdown",
   "id": "170dd2ea-340f-4ab4-94c8-fe077342e98e",
   "metadata": {},
   "source": [
    "<font color=Blue>\n",
    "Task:  <br>\n",
    "Describe the relationship between repeat purchases and sales. Your answer must\n",
    "include a visualization to demonstrate the relationship. <br>\n",
    "</font>"
   ]
  },
  {
   "cell_type": "markdown",
   "id": "635491b8-68a7-4aca-b9f5-ef457b674369",
   "metadata": {},
   "source": [
    "As we can see in the visualization below, the interquartile ranges of both repeat purchases and no repeat purchases overlap, this shows that there is a high similarity between the two box plots and not much difference. The median of no repeat purchases lies a little higher than the median of repeat purchases, but since the median of no repeat purchases is still in between the interquartile range of repeat purchases there is not much of a difference here either. When looking at the whiskers of both box plots, we can see that the range of no repeat purchases is larger than the range of repeat purchases. The fact that the interquartile ranges overlap so much and that the median's are close together and still within the other category's interquartile range, this shows that whether the purchases is a repeat or non repeat purchase does not have a big influence on sales.  "
   ]
  },
  {
   "cell_type": "markdown",
   "id": "0f8f7f4e-e8d6-4c84-8edd-cd4992f18c13",
   "metadata": {},
   "source": [
    "![image-4](image-4.png)\n"
   ]
  },
  {
   "cell_type": "markdown",
   "id": "e6442efb-a486-450c-b9f8-9b2ca9083ba3",
   "metadata": {},
   "source": [
    "## **Conclusion**"
   ]
  },
  {
   "cell_type": "markdown",
   "id": "a93aba59-0e3a-41e4-8201-f5ce2a49b756",
   "metadata": {},
   "source": [
    "Based on all of the visualizations above, we can see that there is very little difference between repeat purchases and non repeat purchases. There is a slight difference that shows that non repeat purchases have slightly better sales than repeat purchases, this can especially be seen in the last box plot."
   ]
  }
 ],
 "metadata": {
  "colab": {
   "name": "Welcome to DataCamp Workspaces.ipynb",
   "provenance": []
  },
  "kernelspec": {
   "display_name": "Python 3 (ipykernel)",
   "language": "python",
   "name": "python3"
  },
  "language_info": {
   "codemirror_mode": {
    "name": "ipython",
    "version": 3
   },
   "file_extension": ".py",
   "mimetype": "text/x-python",
   "name": "python",
   "nbconvert_exporter": "python",
   "pygments_lexer": "ipython3",
   "version": "3.9.13"
  }
 },
 "nbformat": 4,
 "nbformat_minor": 5
}
