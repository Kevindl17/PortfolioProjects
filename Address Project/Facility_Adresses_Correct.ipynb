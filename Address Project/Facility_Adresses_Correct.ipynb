{
 "cells": [
  {
   "cell_type": "markdown",
   "id": "754e87cc",
   "metadata": {},
   "source": [
    "# Using GoogleMaps Api to search for facility name and Sta"
   ]
  },
  {
   "cell_type": "code",
   "execution_count": 50,
   "id": "1dc7b5a1",
   "metadata": {
    "scrolled": false
   },
   "outputs": [
    {
     "name": "stdout",
     "output_type": "stream",
     "text": [
      "Processed 0 rows...\n",
      "Processed 1000 rows...\n",
      "Processed 2000 rows...\n",
      "Processed 3000 rows...\n",
      "Processed 4000 rows...\n",
      "Processed 5000 rows...\n"
     ]
    }
   ],
   "source": [
    "import pandas as pd\n",
    "from geopy.geocoders import GoogleV3\n",
    "import python_creds\n",
    "\n",
    "# Load the Excel file\n",
    "df = pd.read_excel('facilities_state.xlsx')\n",
    "\n",
    "# Initialize the geolocator\n",
    "geolocator = GoogleV3(api_key=python_creds.google_api)\n",
    "\n",
    "# Define a function to geocode a single row\n",
    "def geocode_row(row):\n",
    "    location = f\"{row['Facility']}, {row['State']}\"\n",
    "    address = geolocator.geocode(location)\n",
    "    return address.address if address else \"Address not found\"\n",
    "\n",
    "# Batch size for saving results\n",
    "batch_size = 1000\n",
    "\n",
    "# Loop over the DataFrame in batches of size `batch_size`\n",
    "for i, start_idx in enumerate(range(0, len(df), batch_size)):\n",
    "    batch = df.iloc[start_idx:start_idx+batch_size]\n",
    "    df.loc[start_idx:start_idx+batch_size, 'Address'] = batch.apply(geocode_row, axis=1)\n",
    "    filename = f\"facilities_GoogleMapsAPI_{i*batch_size+1}-{(i+1)*batch_size}.xlsx\"\n",
    "    df.iloc[start_idx:start_idx+batch_size].to_excel(filename, index=False)\n",
    "    print(f\"Processed {(i+1)*batch_size} rows...\")"
   ]
  },
  {
   "cell_type": "markdown",
   "id": "6c95c195",
   "metadata": {},
   "source": [
    "# Using MapQuest Api"
   ]
  },
  {
   "cell_type": "code",
   "execution_count": null,
   "id": "2c3aa975",
   "metadata": {},
   "outputs": [],
   "source": [
    "import requests\n",
    "import pandas as pd\n",
    "import math\n",
    "\n",
    "# Define the MapQuest API key\n",
    "key = python_creds.MapQuest_api\n",
    "\n",
    "# Read the facilities Excel file\n",
    "facilities_df = pd.read_excel('facilities_state.xlsx')\n",
    "\n",
    "# Define the batch size and calculate the number of batches\n",
    "batch_size = 1000\n",
    "num_batches = math.ceil(len(facilities_df) / batch_size)\n",
    "\n",
    "# Iterate over the batches of facilities and search for their addresses\n",
    "for i in range(num_batches):\n",
    "    start_idx = i * batch_size\n",
    "    end_idx = (i + 1) * batch_size\n",
    "    batch_df = facilities_df.iloc[start_idx:end_idx]\n",
    "    \n",
    "    # Define the list of addresses for the current batch\n",
    "    addresses = []\n",
    "    \n",
    "    # Iterate over the facilities in the current batch and search for their addresses\n",
    "    for index, row in batch_df.iterrows():\n",
    "        query = f'{row[\"Facility\"]} {row[\"State\"]}'\n",
    "        url = f'http://www.mapquestapi.com/geocoding/v1/address?key={key}&location={query}'\n",
    "        response = requests.get(url)\n",
    "        if response.ok:\n",
    "            json_data = response.json()\n",
    "            if json_data['results']:\n",
    "                location = json_data['results'][0]['locations'][0]\n",
    "                address = location['street'] + ', ' + location['adminArea5'] + ', ' + location['adminArea3'] + ' ' + location['postalCode']\n",
    "                addresses.append(address)\n",
    "            else:\n",
    "                addresses.append('Could not find the address.')\n",
    "        else:\n",
    "            addresses.append('Request failed.')\n",
    "    \n",
    "    # Save the list of addresses to a new Excel file for the current batch\n",
    "    batch_num = i + 1\n",
    "    filename = f'facilities_Mapquest_State{batch_num * batch_size}.xlsx'\n",
    "    batch_df = batch_df.assign(Address=addresses)\n",
    "    batch_df.to_excel(filename, index=False)\n"
   ]
  },
  {
   "cell_type": "markdown",
   "id": "7e9b3933",
   "metadata": {},
   "source": [
    "## Using GoogleMaps Api to Only Search for the Facility Name instead of Facility & State Combination"
   ]
  },
  {
   "cell_type": "code",
   "execution_count": 54,
   "id": "77761478",
   "metadata": {},
   "outputs": [
    {
     "name": "stdout",
     "output_type": "stream",
     "text": [
      "Processed 1708 rows...\n"
     ]
    }
   ],
   "source": [
    "import pandas as pd\n",
    "from geopy.geocoders import GoogleV3\n",
    "import python_creds\n",
    "\n",
    "# Load the Excel file\n",
    "df = pd.read_excel('Fac_Not_Found.xlsx')\n",
    "\n",
    "# Initialize the geolocator\n",
    "geolocator = GoogleV3(api_key=python_creds.google_api)\n",
    "\n",
    "# Define a function to geocode a single row\n",
    "def geocode_row(row):\n",
    "    location = f\"{row['Facility']}\"\n",
    "    address = geolocator.geocode(location)\n",
    "    return address.address if address else \"Address not found\"\n",
    "\n",
    "# Batch size for saving results\n",
    "batch_size = 1708\n",
    "\n",
    "# Loop over the DataFrame in batches of size `batch_size`\n",
    "for i, start_idx in enumerate(range(0, len(df), batch_size)):\n",
    "    batch = df.iloc[start_idx:start_idx+batch_size]\n",
    "    df.loc[start_idx:start_idx+batch_size, 'Address'] = batch.apply(geocode_row, axis=1)\n",
    "    filename = f\"facilities_GoogleMapsAPI_NF_{i*batch_size+1}-{(i+1)*batch_size}.xlsx\"\n",
    "    df.iloc[start_idx:start_idx+batch_size].to_excel(filename, index=False)\n",
    "    print(f\"Processed {(i+1)*batch_size} rows...\")"
   ]
  },
  {
   "cell_type": "markdown",
   "id": "2044cea2",
   "metadata": {},
   "source": [
    "# Combine the Seperate Batch Documents into 1"
   ]
  },
  {
   "cell_type": "code",
   "execution_count": 53,
   "id": "ebe71817",
   "metadata": {},
   "outputs": [],
   "source": [
    "import pandas as pd\n",
    "import glob\n",
    "\n",
    "# Get a list of all the Excel files with facility addresses\n",
    "file_list = glob.glob(\"facilities_GoogleMapsApi_*.xlsx\")\n",
    "\n",
    "# Combine the Excel files into a single DataFrame\n",
    "df_list = []\n",
    "for file in file_list:\n",
    "    df_list.append(pd.read_excel(file))\n",
    "df = pd.concat(df_list)\n",
    "\n",
    "# Save the combined DataFrame to a new Excel file\n",
    "df.to_excel(\"facilities_GoogleMaps_combined(Original).xlsx\", index=False)\n"
   ]
  }
 ],
 "metadata": {
  "kernelspec": {
   "display_name": "Python 3 (ipykernel)",
   "language": "python",
   "name": "python3"
  },
  "language_info": {
   "codemirror_mode": {
    "name": "ipython",
    "version": 3
   },
   "file_extension": ".py",
   "mimetype": "text/x-python",
   "name": "python",
   "nbconvert_exporter": "python",
   "pygments_lexer": "ipython3",
   "version": "3.9.13"
  }
 },
 "nbformat": 4,
 "nbformat_minor": 5
}
