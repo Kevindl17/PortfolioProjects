{
 "cells": [
  {
   "cell_type": "code",
   "execution_count": 66,
   "id": "9d448d41",
   "metadata": {},
   "outputs": [
    {
     "name": "stdout",
     "output_type": "stream",
     "text": [
      "Which employee number do you want to see (1-5), 6 for all: 1\n",
      "#Emp01 is: {'Bert': {'team': 'marketing', 'role': 'social media marketer', 'salary': '$70.000'}}\n"
     ]
    }
   ],
   "source": [
    "import json\n",
    "\n",
    "file = open(\"employee.json\")\n",
    "\n",
    "data = json.load(file)\n",
    "empi = input(\"Which employee number do you want to see (1-5), 6 for all: \")\n",
    "\n",
    "if int(empi) <= 5:\n",
    "    empo = \"Emp0\"+empi\n",
    "    print(\"#\"+empo, \"is:\", data[empo])\n",
    "if int(empi) == 6:\n",
    "    for i in range(1,6,1):\n",
    "        empo = \"Emp0\"+str(i)\n",
    "        print(\"#\"+empo,\"is:\", data[empo])\n",
    "\n",
    "file.close()"
   ]
  },
  {
   "cell_type": "code",
   "execution_count": null,
   "id": "d24ed511",
   "metadata": {},
   "outputs": [],
   "source": []
  }
 ],
 "metadata": {
  "kernelspec": {
   "display_name": "Python 3",
   "language": "python",
   "name": "python3"
  },
  "language_info": {
   "codemirror_mode": {
    "name": "ipython",
    "version": 3
   },
   "file_extension": ".py",
   "mimetype": "text/x-python",
   "name": "python",
   "nbconvert_exporter": "python",
   "pygments_lexer": "ipython3",
   "version": "3.9.12"
  }
 },
 "nbformat": 4,
 "nbformat_minor": 5
}
