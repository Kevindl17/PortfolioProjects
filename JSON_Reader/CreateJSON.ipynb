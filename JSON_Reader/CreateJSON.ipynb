{
 "cells": [
  {
   "cell_type": "code",
   "execution_count": 3,
   "id": "5d2921e3",
   "metadata": {},
   "outputs": [
    {
     "name": "stdout",
     "output_type": "stream",
     "text": [
      "{'team': 'people', 'role': 'human resource', 'salary': '$80.000'}\n"
     ]
    }
   ],
   "source": [
    "import json\n",
    "\n",
    "Employee = {\n",
    "    \"Cindy\": {\"team\": \"marketing\", \"role\": \"graphic designer\", \"salary\": \"$50.000\"},\n",
    "    \"Jacob\": {\"team\": \"sales\", \"role\": \"sales manager\", \"salary\": \"$90.000\"},\n",
    "    \"Bert\": {\"team\": \"marketing\", \"role\": \"social media marketer\", \"salary\": \"$70.000\"},\n",
    "    \"Gerald\": {\"team\": \"people\", \"role\": \"president\", \"salary\": \"$120.000\"},\n",
    "    \"Billy\": {\"team\": \"people\", \"role\": \"human resource\", \"salary\": \"$80.000\"},\n",
    "    \"Gerard\": {\"team\": \"sales\", \"role\": \"sales intern\", \"salary\": \"$40.000\"}}\n",
    "\n",
    "test_ist = {\"Emp01\", \"Emp02\", \"Emp03\", \"Emp04\", \"Emp05\", \"Emp06\"}\n",
    "\n",
    "x = json.dumps(Employee)\n",
    "    \n",
    "res = {}\n",
    "for key, ele in zip(test_ist, Employee.items()):\n",
    "    res[key] = dict([ele])\n",
    "\n",
    "#print(res)\n",
    "\n",
    "print(Employee['Billy'])\n",
    "\n"
   ]
  },
  {
   "cell_type": "code",
   "execution_count": null,
   "id": "206ff2c5",
   "metadata": {},
   "outputs": [],
   "source": []
  }
 ],
 "metadata": {
  "kernelspec": {
   "display_name": "Python 3",
   "language": "python",
   "name": "python3"
  },
  "language_info": {
   "codemirror_mode": {
    "name": "ipython",
    "version": 3
   },
   "file_extension": ".py",
   "mimetype": "text/x-python",
   "name": "python",
   "nbconvert_exporter": "python",
   "pygments_lexer": "ipython3",
   "version": "3.9.12"
  }
 },
 "nbformat": 4,
 "nbformat_minor": 5
}
